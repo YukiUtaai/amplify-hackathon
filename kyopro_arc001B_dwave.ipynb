{
 "cells": [
  {
   "cell_type": "code",
   "execution_count": 68,
   "metadata": {},
   "outputs": [],
   "source": [
    "from amplify import gen_symbols, BinaryPoly\n",
    "from amplify import sum_poly\n",
    "from amplify.constraint import equal_to\n",
    "import matplotlib.pyplot as plt\n",
    "from amplify import Solver\n",
    "from amplify.client import FixstarsClient\n",
    "import matplotlib.ticker as ticker   \n",
    "from amplify.client.ocean import DWaveSamplerClient\n",
    " \n",
    "# t1, t2 = [int(i) for i in input().split()] # 競技プログラミングの場合は入力を受け取るときにこうする\n",
    "t1, t2 = 0, 37 # 初期温度、目標温度\n",
    "T = t2 - t1 # 初期温度と目標温度の差→初期温度と目標温度に依らず、この値が重要となる\n",
    "N = 8 # リモコンを最大で何回操作するか→Tを大きくする場合は大きくする必要がある\n",
    "R = [0, -1, 1, -5, 5, -10, 10] # リモコンの機能\n",
    "\n",
    "use_equal_to = False # equal_to関数を使うかどうか\n",
    "\n",
    "Len_R = len(R) # リモコンで変化できる温度の種類→ループを回す際に必要\n",
    "\n",
    "# QUBOの各項に掛ける係数\n",
    "A = 1\n",
    "B = 250\n",
    "C = 0.99\n",
    "\n",
    "q = gen_symbols(BinaryPoly, N*Len_R)\n",
    "\n",
    "\n",
    "if use_equal_to == True:\n",
    "    # QUBO1 ペナルティ項（変化した温度の総和がTとなる）-------------------------------------------------\n",
    "    constraints1 = [equal_to(sum_poly([R[i%Len_R] * q[i] for i in range(N*Len_R)]), T)]\n",
    "    constraints1 *= A # 制約条件の強さを設定\n",
    "    constraints1 = sum(constraints1)\n",
    "    \n",
    "    # QUBO2 ペナルティ項（リモコンの操作は１度に１回）--------------------------------------------------\n",
    "    constraints2 = []\n",
    "    for i in range(N):   \n",
    "        constraints2 += [equal_to(sum_poly([q[j%Len_R + Len_R * i] for j in range(Len_R)]), 1)]\n",
    "    constraints2 *= B # 制約条件の強さを設定\n",
    "    constraints2 = sum(constraints2)\n",
    "\n",
    "else:\n",
    "    # QUBO1 ペナルティ項（変化した温度の総和がTとなる）-------------------------------------------------\n",
    "    constraints1 = A * (sum_poly([R[i%Len_R] * q[i] for i in range(N*Len_R)]) - T) ** 2\n",
    "\n",
    "    # QUBO2 ペナルティ項（リモコンの操作は１度に１回）--------------------------------------------------\n",
    "    constraints2 = 0\n",
    "    for i in range(N):   \n",
    "        constraints2 += B * (sum_poly([q[j%Len_R + Len_R * i] for j in range(Len_R)]) - 1) ** 2\n",
    "\n",
    "        \n",
    "# QUBO3 0度を選んだらほんの少しだけご褒美を与える---------------------------------------------------\n",
    "# 「最小の回数」を出力するために必要な条件\n",
    "# 温度がTに出来る操作の組合せのうち、0℃を多く選んだものを評価できるように\n",
    "reward = sum_poly([-C * q[Len_R * i] for i in range(N)])\n",
    "\n",
    "# QUBO = QUBO1 + QUBO2 + QUBO3\n",
    "model = constraints1 + constraints2 + reward         \n",
    "        "
   ]
  },
  {
   "cell_type": "code",
   "execution_count": 69,
   "metadata": {},
   "outputs": [
    {
     "name": "stdout",
     "output_type": "stream",
     "text": [
      "結果（0℃変更含む）\n",
      "[0, 0, 0, 0, 0, 0, 0, 1] 0℃変更\n",
      "[0, 0, 1, 0, 0, 1, 0, 0] -1℃変更\n",
      "[0, 0, 0, 1, 0, 0, 1, 0] 1℃変更\n",
      "[0, 0, 0, 0, 0, 0, 0, 0] -5℃変更\n",
      "[0, 0, 0, 1, 1, 0, 1, 0] 5℃変更\n",
      "[0, 0, 0, 0, 0, 0, 0, 0] -10℃変更\n",
      "[1, 1, 0, 0, 0, 0, 0, 0] 10℃変更\n",
      "--------------------------\n",
      "結果（0℃変更含まない）\n",
      "[0, 0, 1, 0, 0, 1, 0] -1℃変更\n",
      "[0, 0, 0, 1, 0, 0, 1] 1℃変更\n",
      "[0, 0, 0, 0, 0, 0, 0] -5℃変更\n",
      "[0, 0, 0, 1, 1, 0, 1] 5℃変更\n",
      "[0, 0, 0, 0, 0, 0, 0] -10℃変更\n",
      "[1, 1, 0, 0, 0, 0, 0] 10℃変更\n",
      "--------------------------\n"
     ]
    },
    {
     "data": {
      "image/png": "[encoded data removed]",
      "text/plain": [
       "<Figure size 432x288 with 1 Axes>"
      ]
     },
     "metadata": {
      "needs_background": "light"
     },
     "output_type": "display_data"
    },
    {
     "name": "stdout",
     "output_type": "stream",
     "text": [
      "操作回数 9\n"
     ]
    },
    {
     "data": {
      "text/plain": [
       "<Figure size 432x288 with 0 Axes>"
      ]
     },
     "metadata": {},
     "output_type": "display_data"
    }
   ],
   "source": [
    "use_dwave = True\n",
    "\n",
    "\n",
    "# 計算実行------------------------------------------------------------------------------------------\n",
    "\n",
    "if use_dwave == True:\n",
    "    client = DWaveSamplerClient()\n",
    "    with open(\"tokenfile_dwave.txt\", \"r\") as f:\n",
    "        token = f.readline()\n",
    "    client.token = token\n",
    "    client.solver = \"Advantage_system1.1\"\n",
    "    client.parameters.num_reads = 100\n",
    "\n",
    "else:\n",
    "    client = FixstarsClient()\n",
    "    with open(\"tokenfile.txt\", \"r\") as f:\n",
    "        token = f.readline()\n",
    "    client.token = token\n",
    "    client.parameters.timeout = 500  # タイムアウト5秒\n",
    "    \n",
    "solver = Solver(client)\n",
    "\n",
    "result = solver.solve(model)\n",
    "if len(result) == 0:\n",
    "    raise RuntimeError(\"Any one of constraints is not satisfied.\")\n",
    "\n",
    "energy, values = result[0].energy, result[0].values\n",
    "\n",
    "\n",
    "# 結果表示------------------------------------------------------------------------------------------\n",
    "print(\"結果（0℃変更含む）\")\n",
    "for i in range(Len_R):\n",
    "    print([values[j*Len_R + i] for j in range(N)],\"{}℃変更\".format(R[i]))\n",
    "print(\"--------------------------\")\n",
    "\n",
    "print(\"結果（0℃変更含まない）\")\n",
    "non_zero_list = []\n",
    "for j in range(N):\n",
    "    if values[j*Len_R] == 0:\n",
    "        non_zero_list.append(j)\n",
    "\n",
    "for i in range(1, Len_R):\n",
    "    print([values[j*Len_R + i] for j in non_zero_list],\"{}℃変更\".format(R[i]))\n",
    "print(\"--------------------------\")\n",
    "\n",
    "\n",
    "# グラフ描写----------------------------------------------------------------------------------------\n",
    "path = [t1]\n",
    "for j in range(N):\n",
    "    for i in range(Len_R):\n",
    "        if i != 0:\n",
    "            temp = R[i] * values[j*Len_R + i]\n",
    "            if temp != 0:\n",
    "                path.append(temp + path[-1])\n",
    "                       \n",
    "fig = plt.figure()\n",
    "x = [i for i in range(len(path))]\n",
    "plt.scatter(x, path)  \n",
    "plt.plot(x, path)\n",
    "plt.plot([-1, 10000], [t1, t1], color=\"green\")\n",
    "plt.plot([-1, 10000], [t2, t2], color=\"red\")\n",
    "plt.xlim([0, len(path)-1])\n",
    "plt.gca().get_xaxis().set_major_locator(ticker.MaxNLocator(integer=True))\n",
    "plt.gca().get_yaxis().set_major_locator(ticker.MaxNLocator(integer=True))\n",
    "plt.xlabel('Number of operations')\n",
    "plt.ylabel('Set temperature')\n",
    "\n",
    "plt.show()\n",
    "plt.savefig(\"img.png\")\n",
    "\n",
    "# 設定したNが操作回数に対して大きすぎる場合は、最小操作回数となっていない可能性が増えてしまうため、\n",
    "# 適宜Nを小さくする必要があるかもしれない\n",
    "print(\"操作回数\", len(path)-1)\n"
   ]
  },
  {
   "cell_type": "code",
   "execution_count": 58,
   "metadata": {},
   "outputs": [],
   "source": []
  },
  {
   "cell_type": "code",
   "execution_count": null,
   "metadata": {},
   "outputs": [],
   "source": []
  },
  {
   "cell_type": "code",
   "execution_count": null,
   "metadata": {},
   "outputs": [],
   "source": []
  }
 ],
 "metadata": {
  "kernelspec": {
   "display_name": "Python 3",
   "language": "python",
   "name": "python3"
  },
  "language_info": {
   "codemirror_mode": {
    "name": "ipython",
    "version": 3
   },
   "file_extension": ".py",
   "mimetype": "text/x-python",
   "name": "python",
   "nbconvert_exporter": "python",
   "pygments_lexer": "ipython3",
   "version": "3.8.5"
  }
 },
 "nbformat": 4,
 "nbformat_minor": 4
}
